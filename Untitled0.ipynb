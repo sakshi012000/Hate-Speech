{
  "nbformat": 4,
  "nbformat_minor": 0,
  "metadata": {
    "colab": {
      "name": "Untitled0.ipynb",
      "provenance": [],
      "authorship_tag": "ABX9TyMl+vUmwlIA7kkAvUK2ahnH",
      "include_colab_link": true
    },
    "kernelspec": {
      "name": "python3",
      "display_name": "Python 3"
    }
  },
  "cells": [
    {
      "cell_type": "markdown",
      "metadata": {
        "id": "view-in-github",
        "colab_type": "text"
      },
      "source": [
        "<a href=\"https://colab.research.google.com/github/sakshi012000/House-Price-Prediction/blob/main/Untitled0.ipynb\" target=\"_parent\"><img src=\"https://colab.research.google.com/assets/colab-badge.svg\" alt=\"Open In Colab\"/></a>"
      ]
    },
    {
      "cell_type": "code",
      "metadata": {
        "id": "Kl_3NnUkvYV-"
      },
      "source": [
        "from google.colab import drive\r\n"
      ],
      "execution_count": 4,
      "outputs": []
    },
    {
      "cell_type": "code",
      "metadata": {
        "colab": {
          "base_uri": "https://localhost:8080/"
        },
        "id": "_8p5I0WZvxP_",
        "outputId": "18ad4352-7a8e-43aa-a219-27f68e3afec1"
      },
      "source": [
        "drive.mount('/content/drive')"
      ],
      "execution_count": 5,
      "outputs": [
        {
          "output_type": "stream",
          "text": [
            "Mounted at /content/drive\n"
          ],
          "name": "stdout"
        }
      ]
    },
    {
      "cell_type": "code",
      "metadata": {
        "id": "TGnalB7_wP9B"
      },
      "source": [
        "import pandas as pd\r\n"
      ],
      "execution_count": 6,
      "outputs": []
    },
    {
      "cell_type": "code",
      "metadata": {
        "id": "AMQOw_i_wfmp"
      },
      "source": [
        "train = pd.read_csv('/content/drive/MyDrive/train.csv')"
      ],
      "execution_count": 7,
      "outputs": []
    },
    {
      "cell_type": "code",
      "metadata": {
        "id": "HQgccL_Fwn95"
      },
      "source": [
        "test = pd.read_csv('/content/drive/MyDrive/test.csv')"
      ],
      "execution_count": 8,
      "outputs": []
    },
    {
      "cell_type": "code",
      "metadata": {
        "id": "xuEkze55wzY4"
      },
      "source": [
        "import re\r\n",
        "def  clean_text(df, text_field):\r\n",
        "    df[text_field] = df[text_field].str.lower()\r\n",
        "    df[text_field] = df[text_field].apply(lambda elem: re.sub(r\"(@[A-Za-z0-9]+)|([^0-9A-Za-z \\t])|(\\w+:\\/\\/\\S+)|^rt|http.+?\", \"\", elem))  \r\n",
        "    return df\r\n",
        "test_clean = clean_text(test, \"tweet\")\r\n",
        "train_clean = clean_text(train, \"tweet\")\r\n"
      ],
      "execution_count": 9,
      "outputs": []
    },
    {
      "cell_type": "code",
      "metadata": {
        "colab": {
          "base_uri": "https://localhost:8080/"
        },
        "id": "rtedDZLHw4pk",
        "outputId": "642e7994-94cb-42f6-86b1-bb909f71a4ea"
      },
      "source": [
        "from sklearn.utils import resample\r\n",
        "train_majority = train_clean[train_clean.label==0]\r\n",
        "train_minority = train_clean[train_clean.label==1]\r\n",
        "train_minority_upsampled = resample(train_minority, \r\n",
        "                                 replace=True,    \r\n",
        "                                 n_samples=len(train_majority),   \r\n",
        "                                 random_state=123)\r\n",
        "train_upsampled = pd.concat([train_minority_upsampled, train_majority])\r\n",
        "train_upsampled['label'].value_counts()"
      ],
      "execution_count": 10,
      "outputs": [
        {
          "output_type": "execute_result",
          "data": {
            "text/plain": [
              "1    29720\n",
              "0    29720\n",
              "Name: label, dtype: int64"
            ]
          },
          "metadata": {
            "tags": []
          },
          "execution_count": 10
        }
      ]
    },
    {
      "cell_type": "code",
      "metadata": {
        "id": "OX2bVbXF4Cix"
      },
      "source": [
        "from sklearn.feature_extraction.text import TfidfVectorizer\r\n",
        "from sklearn.pipeline import Pipeline\r\n",
        "from sklearn.feature_extraction.text import CountVectorizer\r\n",
        "from sklearn.feature_extraction.text import TfidfTransformer\r\n",
        "from sklearn.linear_model import SGDClassifier\r\n",
        "pipeline_sgd = Pipeline([\r\n",
        "    ('vect', CountVectorizer()),\r\n",
        "    ('tfidf',  TfidfTransformer()),\r\n",
        "    ('nb', SGDClassifier()),])"
      ],
      "execution_count": 11,
      "outputs": []
    },
    {
      "cell_type": "code",
      "metadata": {
        "id": "Yxc_Ket7G22e"
      },
      "source": [
        "from sklearn.model_selection import train_test_split\r\n",
        "X_train, X_test, y_train, y_test = train_test_split(train_upsampled['tweet'],\r\n",
        "                                                    train_upsampled['label'],random_state = 0)"
      ],
      "execution_count": 12,
      "outputs": []
    },
    {
      "cell_type": "code",
      "metadata": {
        "colab": {
          "base_uri": "https://localhost:8080/"
        },
        "id": "FHcQzX43G94s",
        "outputId": "313539cd-1a75-461a-e165-4e5ba60f5365"
      },
      "source": [
        "model = pipeline_sgd.fit(X_train, y_train)\r\n",
        "y_predict = model.predict(X_test)\r\n",
        "from sklearn.metrics import f1_score\r\n",
        "f1_score(y_test, y_predict)"
      ],
      "execution_count": 16,
      "outputs": [
        {
          "output_type": "execute_result",
          "data": {
            "text/plain": [
              "0.9694707372350352"
            ]
          },
          "metadata": {
            "tags": []
          },
          "execution_count": 16
        }
      ]
    }
  ]
}