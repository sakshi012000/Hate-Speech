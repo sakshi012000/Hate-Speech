{
  "nbformat": 4,
  "nbformat_minor": 0,
  "metadata": {
    "kernelspec": {
      "display_name": "Python 3",
      "language": "python",
      "name": "python3"
    },
    "language_info": {
      "codemirror_mode": {
        "name": "ipython",
        "version": 3
      },
      "file_extension": ".py",
      "mimetype": "text/x-python",
      "name": "python",
      "nbconvert_exporter": "python",
      "pygments_lexer": "ipython3",
      "version": "3.7.9"
    },
    "papermill": {
      "default_parameters": {},
      "duration": 14.652606,
      "end_time": "2021-01-31T13:09:56.478861",
      "environment_variables": {},
      "exception": null,
      "input_path": "__notebook__.ipynb",
      "output_path": "__notebook__.ipynb",
      "parameters": {},
      "start_time": "2021-01-31T13:09:41.826255",
      "version": "2.2.2"
    },
    "colab": {
      "name": "exercise-pipelines.ipynb",
      "provenance": []
    }
  },
  "cells": [
    {
      "cell_type": "markdown",
      "metadata": {
        "papermill": {
          "duration": 0.013178,
          "end_time": "2021-01-31T13:09:47.625090",
          "exception": false,
          "start_time": "2021-01-31T13:09:47.611912",
          "status": "completed"
        },
        "tags": [],
        "id": "qJTD7b2fp5IH"
      },
      "source": [
        "**This notebook is an exercise in the [Intermediate Machine Learning](https://www.kaggle.com/learn/intermediate-machine-learning) course.  You can reference the tutorial at [this link](https://www.kaggle.com/alexisbcook/pipelines).**\n",
        "\n",
        "---\n"
      ]
    },
    {
      "cell_type": "markdown",
      "metadata": {
        "papermill": {
          "duration": 0.011615,
          "end_time": "2021-01-31T13:09:47.648929",
          "exception": false,
          "start_time": "2021-01-31T13:09:47.637314",
          "status": "completed"
        },
        "tags": [],
        "id": "PRPcvLNDp5IW"
      },
      "source": [
        "In this exercise, you will use **pipelines** to improve the efficiency of your machine learning code.\n",
        "\n",
        "# Setup\n",
        "\n",
        "The questions below will give you feedback on your work. Run the following cell to set up the feedback system."
      ]
    },
    {
      "cell_type": "code",
      "metadata": {
        "execution": {
          "iopub.execute_input": "2021-01-31T13:09:47.680374Z",
          "iopub.status.busy": "2021-01-31T13:09:47.679500Z",
          "iopub.status.idle": "2021-01-31T13:09:48.521453Z",
          "shell.execute_reply": "2021-01-31T13:09:48.520172Z"
        },
        "papermill": {
          "duration": 0.860813,
          "end_time": "2021-01-31T13:09:48.521698",
          "exception": false,
          "start_time": "2021-01-31T13:09:47.660885",
          "status": "completed"
        },
        "tags": [],
        "id": "7-CoxDiNp5IY",
        "outputId": "41001768-f233-4b16-e626-4a1c2d6aab2b"
      },
      "source": [
        "# Set up code checking\n",
        "import os\n",
        "if not os.path.exists(\"../input/train.csv\"):\n",
        "    os.symlink(\"../input/home-data-for-ml-course/train.csv\", \"../input/train.csv\")  \n",
        "    os.symlink(\"../input/home-data-for-ml-course/test.csv\", \"../input/test.csv\") \n",
        "from learntools.core import binder\n",
        "binder.bind(globals())\n",
        "from learntools.ml_intermediate.ex4 import *\n",
        "print(\"Setup Complete\")"
      ],
      "execution_count": null,
      "outputs": [
        {
          "output_type": "stream",
          "text": [
            "Setup Complete\n"
          ],
          "name": "stdout"
        }
      ]
    },
    {
      "cell_type": "markdown",
      "metadata": {
        "papermill": {
          "duration": 0.012524,
          "end_time": "2021-01-31T13:09:48.548909",
          "exception": false,
          "start_time": "2021-01-31T13:09:48.536385",
          "status": "completed"
        },
        "tags": [],
        "id": "IPlWVb9rp5Ib"
      },
      "source": [
        "You will work with data from the [Housing Prices Competition for Kaggle Learn Users](https://www.kaggle.com/c/home-data-for-ml-course). \n",
        "\n",
        "![Ames Housing dataset image](https://i.imgur.com/lTJVG4e.png)\n",
        "\n",
        "Run the next code cell without changes to load the training and validation sets in `X_train`, `X_valid`, `y_train`, and `y_valid`.  The test set is loaded in `X_test`."
      ]
    },
    {
      "cell_type": "code",
      "metadata": {
        "execution": {
          "iopub.execute_input": "2021-01-31T13:09:48.583924Z",
          "iopub.status.busy": "2021-01-31T13:09:48.583117Z",
          "iopub.status.idle": "2021-01-31T13:09:48.812344Z",
          "shell.execute_reply": "2021-01-31T13:09:48.811881Z"
        },
        "papermill": {
          "duration": 0.250949,
          "end_time": "2021-01-31T13:09:48.812455",
          "exception": false,
          "start_time": "2021-01-31T13:09:48.561506",
          "status": "completed"
        },
        "tags": [],
        "id": "javQ33Y5p5Ic"
      },
      "source": [
        "import pandas as pd\n",
        "from sklearn.model_selection import train_test_split\n",
        "\n",
        "# Read the data\n",
        "X_full = pd.read_csv('../input/train.csv', index_col='Id')\n",
        "X_test_full = pd.read_csv('../input/test.csv', index_col='Id')\n",
        "\n",
        "# Remove rows with missing target, separate target from predictors\n",
        "X_full.dropna(axis=0, subset=['SalePrice'], inplace=True)\n",
        "y = X_full.SalePrice\n",
        "X_full.drop(['SalePrice'], axis=1, inplace=True)\n",
        "\n",
        "# Break off validation set from training data\n",
        "X_train_full, X_valid_full, y_train, y_valid = train_test_split(X_full, y, \n",
        "                                                                train_size=0.8, test_size=0.2,\n",
        "                                                                random_state=0)\n",
        "\n",
        "# \"Cardinality\" means the number of unique values in a column\n",
        "# Select categorical columns with relatively low cardinality (convenient but arbitrary)\n",
        "categorical_cols = [cname for cname in X_train_full.columns if\n",
        "                    X_train_full[cname].nunique() < 10 and \n",
        "                    X_train_full[cname].dtype == \"object\"]\n",
        "\n",
        "# Select numerical columns\n",
        "numerical_cols = [cname for cname in X_train_full.columns if \n",
        "                X_train_full[cname].dtype in ['int64', 'float64']]\n",
        "\n",
        "# Keep selected columns only\n",
        "my_cols = categorical_cols + numerical_cols\n",
        "X_train = X_train_full[my_cols].copy()\n",
        "X_valid = X_valid_full[my_cols].copy()\n",
        "X_test = X_test_full[my_cols].copy()"
      ],
      "execution_count": null,
      "outputs": []
    },
    {
      "cell_type": "code",
      "metadata": {
        "execution": {
          "iopub.execute_input": "2021-01-31T13:09:48.838733Z",
          "iopub.status.busy": "2021-01-31T13:09:48.838195Z",
          "iopub.status.idle": "2021-01-31T13:09:48.860014Z",
          "shell.execute_reply": "2021-01-31T13:09:48.859657Z"
        },
        "papermill": {
          "duration": 0.038217,
          "end_time": "2021-01-31T13:09:48.860118",
          "exception": false,
          "start_time": "2021-01-31T13:09:48.821901",
          "status": "completed"
        },
        "tags": [],
        "id": "fbGWHfNYp5Id",
        "outputId": "429a8a21-3608-46fb-89f3-708a1f9b7b42"
      },
      "source": [
        "X_train.head()"
      ],
      "execution_count": null,
      "outputs": [
        {
          "output_type": "execute_result",
          "data": {
            "text/html": [
              "<div>\n",
              "<style scoped>\n",
              "    .dataframe tbody tr th:only-of-type {\n",
              "        vertical-align: middle;\n",
              "    }\n",
              "\n",
              "    .dataframe tbody tr th {\n",
              "        vertical-align: top;\n",
              "    }\n",
              "\n",
              "    .dataframe thead th {\n",
              "        text-align: right;\n",
              "    }\n",
              "</style>\n",
              "<table border=\"1\" class=\"dataframe\">\n",
              "  <thead>\n",
              "    <tr style=\"text-align: right;\">\n",
              "      <th></th>\n",
              "      <th>MSZoning</th>\n",
              "      <th>Street</th>\n",
              "      <th>Alley</th>\n",
              "      <th>LotShape</th>\n",
              "      <th>LandContour</th>\n",
              "      <th>Utilities</th>\n",
              "      <th>LotConfig</th>\n",
              "      <th>LandSlope</th>\n",
              "      <th>Condition1</th>\n",
              "      <th>Condition2</th>\n",
              "      <th>...</th>\n",
              "      <th>GarageArea</th>\n",
              "      <th>WoodDeckSF</th>\n",
              "      <th>OpenPorchSF</th>\n",
              "      <th>EnclosedPorch</th>\n",
              "      <th>3SsnPorch</th>\n",
              "      <th>ScreenPorch</th>\n",
              "      <th>PoolArea</th>\n",
              "      <th>MiscVal</th>\n",
              "      <th>MoSold</th>\n",
              "      <th>YrSold</th>\n",
              "    </tr>\n",
              "    <tr>\n",
              "      <th>Id</th>\n",
              "      <th></th>\n",
              "      <th></th>\n",
              "      <th></th>\n",
              "      <th></th>\n",
              "      <th></th>\n",
              "      <th></th>\n",
              "      <th></th>\n",
              "      <th></th>\n",
              "      <th></th>\n",
              "      <th></th>\n",
              "      <th></th>\n",
              "      <th></th>\n",
              "      <th></th>\n",
              "      <th></th>\n",
              "      <th></th>\n",
              "      <th></th>\n",
              "      <th></th>\n",
              "      <th></th>\n",
              "      <th></th>\n",
              "      <th></th>\n",
              "      <th></th>\n",
              "    </tr>\n",
              "  </thead>\n",
              "  <tbody>\n",
              "    <tr>\n",
              "      <th>619</th>\n",
              "      <td>RL</td>\n",
              "      <td>Pave</td>\n",
              "      <td>NaN</td>\n",
              "      <td>Reg</td>\n",
              "      <td>Lvl</td>\n",
              "      <td>AllPub</td>\n",
              "      <td>Inside</td>\n",
              "      <td>Gtl</td>\n",
              "      <td>Norm</td>\n",
              "      <td>Norm</td>\n",
              "      <td>...</td>\n",
              "      <td>774</td>\n",
              "      <td>0</td>\n",
              "      <td>108</td>\n",
              "      <td>0</td>\n",
              "      <td>0</td>\n",
              "      <td>260</td>\n",
              "      <td>0</td>\n",
              "      <td>0</td>\n",
              "      <td>7</td>\n",
              "      <td>2007</td>\n",
              "    </tr>\n",
              "    <tr>\n",
              "      <th>871</th>\n",
              "      <td>RL</td>\n",
              "      <td>Pave</td>\n",
              "      <td>NaN</td>\n",
              "      <td>Reg</td>\n",
              "      <td>Lvl</td>\n",
              "      <td>AllPub</td>\n",
              "      <td>Inside</td>\n",
              "      <td>Gtl</td>\n",
              "      <td>PosN</td>\n",
              "      <td>Norm</td>\n",
              "      <td>...</td>\n",
              "      <td>308</td>\n",
              "      <td>0</td>\n",
              "      <td>0</td>\n",
              "      <td>0</td>\n",
              "      <td>0</td>\n",
              "      <td>0</td>\n",
              "      <td>0</td>\n",
              "      <td>0</td>\n",
              "      <td>8</td>\n",
              "      <td>2009</td>\n",
              "    </tr>\n",
              "    <tr>\n",
              "      <th>93</th>\n",
              "      <td>RL</td>\n",
              "      <td>Pave</td>\n",
              "      <td>Grvl</td>\n",
              "      <td>IR1</td>\n",
              "      <td>HLS</td>\n",
              "      <td>AllPub</td>\n",
              "      <td>Inside</td>\n",
              "      <td>Gtl</td>\n",
              "      <td>Norm</td>\n",
              "      <td>Norm</td>\n",
              "      <td>...</td>\n",
              "      <td>432</td>\n",
              "      <td>0</td>\n",
              "      <td>0</td>\n",
              "      <td>44</td>\n",
              "      <td>0</td>\n",
              "      <td>0</td>\n",
              "      <td>0</td>\n",
              "      <td>0</td>\n",
              "      <td>8</td>\n",
              "      <td>2009</td>\n",
              "    </tr>\n",
              "    <tr>\n",
              "      <th>818</th>\n",
              "      <td>RL</td>\n",
              "      <td>Pave</td>\n",
              "      <td>NaN</td>\n",
              "      <td>IR1</td>\n",
              "      <td>Lvl</td>\n",
              "      <td>AllPub</td>\n",
              "      <td>CulDSac</td>\n",
              "      <td>Gtl</td>\n",
              "      <td>Norm</td>\n",
              "      <td>Norm</td>\n",
              "      <td>...</td>\n",
              "      <td>857</td>\n",
              "      <td>150</td>\n",
              "      <td>59</td>\n",
              "      <td>0</td>\n",
              "      <td>0</td>\n",
              "      <td>0</td>\n",
              "      <td>0</td>\n",
              "      <td>0</td>\n",
              "      <td>7</td>\n",
              "      <td>2008</td>\n",
              "    </tr>\n",
              "    <tr>\n",
              "      <th>303</th>\n",
              "      <td>RL</td>\n",
              "      <td>Pave</td>\n",
              "      <td>NaN</td>\n",
              "      <td>IR1</td>\n",
              "      <td>Lvl</td>\n",
              "      <td>AllPub</td>\n",
              "      <td>Corner</td>\n",
              "      <td>Gtl</td>\n",
              "      <td>Norm</td>\n",
              "      <td>Norm</td>\n",
              "      <td>...</td>\n",
              "      <td>843</td>\n",
              "      <td>468</td>\n",
              "      <td>81</td>\n",
              "      <td>0</td>\n",
              "      <td>0</td>\n",
              "      <td>0</td>\n",
              "      <td>0</td>\n",
              "      <td>0</td>\n",
              "      <td>1</td>\n",
              "      <td>2006</td>\n",
              "    </tr>\n",
              "  </tbody>\n",
              "</table>\n",
              "<p>5 rows × 76 columns</p>\n",
              "</div>"
            ],
            "text/plain": [
              "    MSZoning Street Alley LotShape LandContour Utilities LotConfig LandSlope  \\\n",
              "Id                                                                             \n",
              "619       RL   Pave   NaN      Reg         Lvl    AllPub    Inside       Gtl   \n",
              "871       RL   Pave   NaN      Reg         Lvl    AllPub    Inside       Gtl   \n",
              "93        RL   Pave  Grvl      IR1         HLS    AllPub    Inside       Gtl   \n",
              "818       RL   Pave   NaN      IR1         Lvl    AllPub   CulDSac       Gtl   \n",
              "303       RL   Pave   NaN      IR1         Lvl    AllPub    Corner       Gtl   \n",
              "\n",
              "    Condition1 Condition2  ... GarageArea WoodDeckSF OpenPorchSF  \\\n",
              "Id                         ...                                     \n",
              "619       Norm       Norm  ...        774          0         108   \n",
              "871       PosN       Norm  ...        308          0           0   \n",
              "93        Norm       Norm  ...        432          0           0   \n",
              "818       Norm       Norm  ...        857        150          59   \n",
              "303       Norm       Norm  ...        843        468          81   \n",
              "\n",
              "    EnclosedPorch 3SsnPorch ScreenPorch PoolArea MiscVal MoSold YrSold  \n",
              "Id                                                                      \n",
              "619             0         0         260        0       0      7   2007  \n",
              "871             0         0           0        0       0      8   2009  \n",
              "93             44         0           0        0       0      8   2009  \n",
              "818             0         0           0        0       0      7   2008  \n",
              "303             0         0           0        0       0      1   2006  \n",
              "\n",
              "[5 rows x 76 columns]"
            ]
          },
          "metadata": {
            "tags": []
          },
          "execution_count": 3
        }
      ]
    },
    {
      "cell_type": "markdown",
      "metadata": {
        "papermill": {
          "duration": 0.00945,
          "end_time": "2021-01-31T13:09:48.879536",
          "exception": false,
          "start_time": "2021-01-31T13:09:48.870086",
          "status": "completed"
        },
        "tags": [],
        "id": "GVcFNwnbp5Ie"
      },
      "source": [
        "The next code cell uses code from the tutorial to preprocess the data and train a model.  Run this code without changes."
      ]
    },
    {
      "cell_type": "code",
      "metadata": {
        "execution": {
          "iopub.execute_input": "2021-01-31T13:09:48.905116Z",
          "iopub.status.busy": "2021-01-31T13:09:48.904576Z",
          "iopub.status.idle": "2021-01-31T13:09:52.048952Z",
          "shell.execute_reply": "2021-01-31T13:09:52.048192Z"
        },
        "papermill": {
          "duration": 3.160019,
          "end_time": "2021-01-31T13:09:52.049136",
          "exception": false,
          "start_time": "2021-01-31T13:09:48.889117",
          "status": "completed"
        },
        "tags": [],
        "id": "XVX-lOI9p5If",
        "outputId": "1da76f8f-8399-43d4-cbfb-6fb1e2df2ad5"
      },
      "source": [
        "from sklearn.compose import ColumnTransformer\n",
        "from sklearn.pipeline import Pipeline\n",
        "from sklearn.impute import SimpleImputer\n",
        "from sklearn.preprocessing import OneHotEncoder\n",
        "from sklearn.ensemble import RandomForestRegressor\n",
        "from sklearn.metrics import mean_absolute_error\n",
        "\n",
        "# Preprocessing for numerical data\n",
        "numerical_transformer = SimpleImputer(strategy='constant')\n",
        "\n",
        "# Preprocessing for categorical data\n",
        "categorical_transformer = Pipeline(steps=[\n",
        "    ('imputer', SimpleImputer(strategy='most_frequent')),\n",
        "    ('onehot', OneHotEncoder(handle_unknown='ignore'))\n",
        "])\n",
        "\n",
        "# Bundle preprocessing for numerical and categorical data\n",
        "preprocessor = ColumnTransformer(\n",
        "    transformers=[\n",
        "        ('num', numerical_transformer, numerical_cols),\n",
        "        ('cat', categorical_transformer, categorical_cols)\n",
        "    ])\n",
        "\n",
        "# Define model\n",
        "model = RandomForestRegressor(n_estimators=100, random_state=0)\n",
        "\n",
        "# Bundle preprocessing and modeling code in a pipeline\n",
        "clf = Pipeline(steps=[('preprocessor', preprocessor),\n",
        "                      ('model', model)\n",
        "                     ])\n",
        "\n",
        "# Preprocessing of training data, fit model \n",
        "clf.fit(X_train, y_train)\n",
        "\n",
        "# Preprocessing of validation data, get predictions\n",
        "preds = clf.predict(X_valid)\n",
        "\n",
        "print('MAE:', mean_absolute_error(y_valid, preds))"
      ],
      "execution_count": null,
      "outputs": [
        {
          "output_type": "stream",
          "text": [
            "MAE: 17861.780102739725\n"
          ],
          "name": "stdout"
        }
      ]
    },
    {
      "cell_type": "markdown",
      "metadata": {
        "papermill": {
          "duration": 0.021192,
          "end_time": "2021-01-31T13:09:52.092082",
          "exception": false,
          "start_time": "2021-01-31T13:09:52.070890",
          "status": "completed"
        },
        "tags": [],
        "id": "OH9_c_Hbp5Ih"
      },
      "source": [
        "The code yields a value around 17862 for the mean absolute error (MAE).  In the next step, you will amend the code to do better.\n",
        "\n",
        "# Step 1: Improve the performance\n",
        "\n",
        "### Part A\n",
        "\n",
        "Now, it's your turn!  In the code cell below, define your own preprocessing steps and random forest model.  Fill in values for the following variables:\n",
        "- `numerical_transformer`\n",
        "- `categorical_transformer`\n",
        "- `model`\n",
        "\n",
        "To pass this part of the exercise, you need only define valid preprocessing steps and a random forest model."
      ]
    },
    {
      "cell_type": "code",
      "metadata": {
        "execution": {
          "iopub.execute_input": "2021-01-31T13:09:52.144668Z",
          "iopub.status.busy": "2021-01-31T13:09:52.143414Z",
          "iopub.status.idle": "2021-01-31T13:09:52.151834Z",
          "shell.execute_reply": "2021-01-31T13:09:52.151092Z"
        },
        "papermill": {
          "duration": 0.037987,
          "end_time": "2021-01-31T13:09:52.152000",
          "exception": false,
          "start_time": "2021-01-31T13:09:52.114013",
          "status": "completed"
        },
        "tags": [],
        "id": "s0FoetQsp5Ii",
        "outputId": "6520c872-ac49-460a-ff89-9fdf39687f07"
      },
      "source": [
        "# Preprocessing for numerical data\n",
        "numerical_transformer = SimpleImputer(strategy='constant')\n",
        "\n",
        "# Preprocessing for categorical data\n",
        "categorical_transformer = Pipeline(steps=[\n",
        "    ('imputer', SimpleImputer(strategy='constant')),\n",
        "    ('onehot', OneHotEncoder(handle_unknown='ignore'))\n",
        "])\n",
        "\n",
        "# Bundle preprocessing for numerical and categorical data\n",
        "preprocessor = ColumnTransformer(\n",
        "    transformers=[\n",
        "        ('num', numerical_transformer, numerical_cols),\n",
        "        ('cat', categorical_transformer, categorical_cols)\n",
        "    ])\n",
        "\n",
        "# Define model\n",
        "model = RandomForestRegressor(n_estimators=100, random_state=0)\n",
        "\n",
        "\n",
        "# Check your answer\n",
        "step_1.a.check()"
      ],
      "execution_count": null,
      "outputs": [
        {
          "output_type": "display_data",
          "data": {
            "application/javascript": [
              "parent.postMessage({\"jupyterEvent\": \"custom.exercise_interaction\", \"data\": {\"outcomeType\": 1, \"valueTowardsCompletion\": 1.0, \"interactionType\": 1, \"questionType\": 2, \"questionId\": \"1.1_YourTurnModel\", \"learnToolsVersion\": \"0.3.4\", \"failureMessage\": \"\", \"exceptionClass\": \"\", \"trace\": \"\"}}, \"*\")"
            ],
            "text/plain": [
              "<IPython.core.display.Javascript object>"
            ]
          },
          "metadata": {
            "tags": []
          }
        },
        {
          "output_type": "display_data",
          "data": {
            "text/markdown": "<span style=\"color:#33cc33\">Correct</span>",
            "text/plain": [
              "Correct"
            ]
          },
          "metadata": {
            "tags": []
          }
        }
      ]
    },
    {
      "cell_type": "code",
      "metadata": {
        "execution": {
          "iopub.execute_input": "2021-01-31T13:09:52.206323Z",
          "iopub.status.busy": "2021-01-31T13:09:52.205715Z",
          "iopub.status.idle": "2021-01-31T13:09:52.212884Z",
          "shell.execute_reply": "2021-01-31T13:09:52.211930Z"
        },
        "papermill": {
          "duration": 0.037412,
          "end_time": "2021-01-31T13:09:52.213035",
          "exception": false,
          "start_time": "2021-01-31T13:09:52.175623",
          "status": "completed"
        },
        "tags": [],
        "id": "_ENjQnOwp5Ij",
        "outputId": "14d92885-7033-44dc-ab6d-bfe5a5e43584"
      },
      "source": [
        "# Lines below will give you a hint or solution code\n",
        "#step_1.a.hint()\n",
        "step_1.a.solution()"
      ],
      "execution_count": null,
      "outputs": [
        {
          "output_type": "display_data",
          "data": {
            "application/javascript": [
              "parent.postMessage({\"jupyterEvent\": \"custom.exercise_interaction\", \"data\": {\"interactionType\": 3, \"questionType\": 2, \"questionId\": \"1.1_YourTurnModel\", \"learnToolsVersion\": \"0.3.4\", \"valueTowardsCompletion\": 0.0, \"failureMessage\": \"\", \"exceptionClass\": \"\", \"trace\": \"\", \"outcomeType\": 4}}, \"*\")"
            ],
            "text/plain": [
              "<IPython.core.display.Javascript object>"
            ]
          },
          "metadata": {
            "tags": []
          }
        },
        {
          "output_type": "display_data",
          "data": {
            "text/markdown": "<span style=\"color:#33cc99\">Solution:</span> \n```python\n# Preprocessing for numerical data\nnumerical_transformer = SimpleImputer(strategy='constant')\n\n# Preprocessing for categorical data\ncategorical_transformer = Pipeline(steps=[\n    ('imputer', SimpleImputer(strategy='constant')),\n    ('onehot', OneHotEncoder(handle_unknown='ignore'))\n])\n\n# Bundle preprocessing for numerical and categorical data\npreprocessor = ColumnTransformer(\n    transformers=[\n        ('num', numerical_transformer, numerical_cols),\n        ('cat', categorical_transformer, categorical_cols)\n    ])\n\n# Define model\nmodel = RandomForestRegressor(n_estimators=100, random_state=0)\n\n```",
            "text/plain": [
              "Solution: \n",
              "```python\n",
              "# Preprocessing for numerical data\n",
              "numerical_transformer = SimpleImputer(strategy='constant')\n",
              "\n",
              "# Preprocessing for categorical data\n",
              "categorical_transformer = Pipeline(steps=[\n",
              "    ('imputer', SimpleImputer(strategy='constant')),\n",
              "    ('onehot', OneHotEncoder(handle_unknown='ignore'))\n",
              "])\n",
              "\n",
              "# Bundle preprocessing for numerical and categorical data\n",
              "preprocessor = ColumnTransformer(\n",
              "    transformers=[\n",
              "        ('num', numerical_transformer, numerical_cols),\n",
              "        ('cat', categorical_transformer, categorical_cols)\n",
              "    ])\n",
              "\n",
              "# Define model\n",
              "model = RandomForestRegressor(n_estimators=100, random_state=0)\n",
              "\n",
              "```"
            ]
          },
          "metadata": {
            "tags": []
          }
        }
      ]
    },
    {
      "cell_type": "markdown",
      "metadata": {
        "papermill": {
          "duration": 0.015944,
          "end_time": "2021-01-31T13:09:52.245715",
          "exception": false,
          "start_time": "2021-01-31T13:09:52.229771",
          "status": "completed"
        },
        "tags": [],
        "id": "BUCckDPxp5Ik"
      },
      "source": [
        "### Part B\n",
        "\n",
        "Run the code cell below without changes.\n",
        "\n",
        "To pass this step, you need to have defined a pipeline in **Part A** that achieves lower MAE than the code above.  You're encouraged to take your time here and try out many different approaches, to see how low you can get the MAE!  (_If your code does not pass, please amend the preprocessing steps and model in Part A._)"
      ]
    },
    {
      "cell_type": "code",
      "metadata": {
        "execution": {
          "iopub.execute_input": "2021-01-31T13:09:52.282257Z",
          "iopub.status.busy": "2021-01-31T13:09:52.281372Z",
          "iopub.status.idle": "2021-01-31T13:09:55.160446Z",
          "shell.execute_reply": "2021-01-31T13:09:55.161012Z"
        },
        "papermill": {
          "duration": 2.899347,
          "end_time": "2021-01-31T13:09:55.161187",
          "exception": false,
          "start_time": "2021-01-31T13:09:52.261840",
          "status": "completed"
        },
        "tags": [],
        "id": "U9lJRR8Wp5Ik",
        "outputId": "b3de493d-203b-45db-e1d9-26b18e9c7e69"
      },
      "source": [
        "# Bundle preprocessing and modeling code in a pipeline\n",
        "my_pipeline = Pipeline(steps=[('preprocessor', preprocessor),\n",
        "                              ('model', model)\n",
        "                             ])\n",
        "\n",
        "# Preprocessing of training data, fit model \n",
        "my_pipeline.fit(X_train, y_train)\n",
        "\n",
        "# Preprocessing of validation data, get predictions\n",
        "preds = my_pipeline.predict(X_valid)\n",
        "\n",
        "# Evaluate the model\n",
        "score = mean_absolute_error(y_valid, preds)\n",
        "print('MAE:', score)\n",
        "\n",
        "# Check your answer\n",
        "step_1.b.check()"
      ],
      "execution_count": null,
      "outputs": [
        {
          "output_type": "stream",
          "text": [
            "MAE: 17621.3197260274\n"
          ],
          "name": "stdout"
        },
        {
          "output_type": "display_data",
          "data": {
            "application/javascript": [
              "parent.postMessage({\"jupyterEvent\": \"custom.exercise_interaction\", \"data\": {\"outcomeType\": 1, \"valueTowardsCompletion\": 1.0, \"interactionType\": 1, \"questionType\": 2, \"questionId\": \"1.2_YourTurnPredict\", \"learnToolsVersion\": \"0.3.4\", \"failureMessage\": \"\", \"exceptionClass\": \"\", \"trace\": \"\"}}, \"*\")"
            ],
            "text/plain": [
              "<IPython.core.display.Javascript object>"
            ]
          },
          "metadata": {
            "tags": []
          }
        },
        {
          "output_type": "display_data",
          "data": {
            "text/markdown": "<span style=\"color:#33cc33\">Correct</span>",
            "text/plain": [
              "Correct"
            ]
          },
          "metadata": {
            "tags": []
          }
        }
      ]
    },
    {
      "cell_type": "code",
      "metadata": {
        "execution": {
          "iopub.execute_input": "2021-01-31T13:09:55.201303Z",
          "iopub.status.busy": "2021-01-31T13:09:55.200646Z",
          "iopub.status.idle": "2021-01-31T13:09:55.209339Z",
          "shell.execute_reply": "2021-01-31T13:09:55.210128Z"
        },
        "papermill": {
          "duration": 0.03058,
          "end_time": "2021-01-31T13:09:55.210312",
          "exception": false,
          "start_time": "2021-01-31T13:09:55.179732",
          "status": "completed"
        },
        "tags": [],
        "id": "nakYkhANp5In",
        "outputId": "8ac576f9-6525-4615-d197-ceeeeddbd087"
      },
      "source": [
        "# Line below will give you a hint\n",
        "step_1.b.hint()"
      ],
      "execution_count": null,
      "outputs": [
        {
          "output_type": "display_data",
          "data": {
            "application/javascript": [
              "parent.postMessage({\"jupyterEvent\": \"custom.exercise_interaction\", \"data\": {\"interactionType\": 2, \"questionType\": 2, \"questionId\": \"1.2_YourTurnPredict\", \"learnToolsVersion\": \"0.3.4\", \"valueTowardsCompletion\": 0.0, \"failureMessage\": \"\", \"exceptionClass\": \"\", \"trace\": \"\", \"outcomeType\": 4}}, \"*\")"
            ],
            "text/plain": [
              "<IPython.core.display.Javascript object>"
            ]
          },
          "metadata": {
            "tags": []
          }
        },
        {
          "output_type": "display_data",
          "data": {
            "text/markdown": "<span style=\"color:#3366cc\">Hint:</span> Please see the hint from Part A to get some ideas for how to change the preprocessing steps and model to get better performance.",
            "text/plain": [
              "Hint: Please see the hint from Part A to get some ideas for how to change the preprocessing steps and model to get better performance."
            ]
          },
          "metadata": {
            "tags": []
          }
        }
      ]
    },
    {
      "cell_type": "markdown",
      "metadata": {
        "papermill": {
          "duration": 0.029325,
          "end_time": "2021-01-31T13:09:55.269464",
          "exception": false,
          "start_time": "2021-01-31T13:09:55.240139",
          "status": "completed"
        },
        "tags": [],
        "id": "M3vIbDgKp5Io"
      },
      "source": [
        "# Step 2: Generate test predictions\n",
        "\n",
        "Now, you'll use your trained model to generate predictions with the test data."
      ]
    },
    {
      "cell_type": "code",
      "metadata": {
        "execution": {
          "iopub.execute_input": "2021-01-31T13:09:55.331386Z",
          "iopub.status.busy": "2021-01-31T13:09:55.330556Z",
          "iopub.status.idle": "2021-01-31T13:09:55.403950Z",
          "shell.execute_reply": "2021-01-31T13:09:55.403257Z"
        },
        "papermill": {
          "duration": 0.105076,
          "end_time": "2021-01-31T13:09:55.404130",
          "exception": false,
          "start_time": "2021-01-31T13:09:55.299054",
          "status": "completed"
        },
        "tags": [],
        "id": "OtVcv1ZWp5Io",
        "outputId": "bd6a2c00-a205-4822-dc42-15bff28907b7"
      },
      "source": [
        "# Preprocessing of test data, fit model\n",
        "preds_test = my_pipeline.predict(X_test)\n",
        "\n",
        "\n",
        "# Check your answer\n",
        "step_2.check()"
      ],
      "execution_count": null,
      "outputs": [
        {
          "output_type": "display_data",
          "data": {
            "application/javascript": [
              "parent.postMessage({\"jupyterEvent\": \"custom.exercise_interaction\", \"data\": {\"outcomeType\": 1, \"valueTowardsCompletion\": 1.0, \"interactionType\": 1, \"questionType\": 2, \"questionId\": \"2_TestPreds\", \"learnToolsVersion\": \"0.3.4\", \"failureMessage\": \"\", \"exceptionClass\": \"\", \"trace\": \"\"}}, \"*\")"
            ],
            "text/plain": [
              "<IPython.core.display.Javascript object>"
            ]
          },
          "metadata": {
            "tags": []
          }
        },
        {
          "output_type": "display_data",
          "data": {
            "text/markdown": "<span style=\"color:#33cc33\">Correct</span>",
            "text/plain": [
              "Correct"
            ]
          },
          "metadata": {
            "tags": []
          }
        }
      ]
    },
    {
      "cell_type": "code",
      "metadata": {
        "execution": {
          "iopub.execute_input": "2021-01-31T13:09:55.471366Z",
          "iopub.status.busy": "2021-01-31T13:09:55.470725Z",
          "iopub.status.idle": "2021-01-31T13:09:55.479307Z",
          "shell.execute_reply": "2021-01-31T13:09:55.478502Z"
        },
        "papermill": {
          "duration": 0.044423,
          "end_time": "2021-01-31T13:09:55.479484",
          "exception": false,
          "start_time": "2021-01-31T13:09:55.435061",
          "status": "completed"
        },
        "tags": [],
        "id": "C3ce1cQtp5Ip",
        "outputId": "01fbdd12-5c38-483a-f932-d9dc2e41a995"
      },
      "source": [
        "# Lines below will give you a hint or solution code\n",
        "#step_2.hint()\n",
        "step_2.solution()"
      ],
      "execution_count": null,
      "outputs": [
        {
          "output_type": "display_data",
          "data": {
            "application/javascript": [
              "parent.postMessage({\"jupyterEvent\": \"custom.exercise_interaction\", \"data\": {\"interactionType\": 3, \"questionType\": 2, \"questionId\": \"2_TestPreds\", \"learnToolsVersion\": \"0.3.4\", \"valueTowardsCompletion\": 0.0, \"failureMessage\": \"\", \"exceptionClass\": \"\", \"trace\": \"\", \"outcomeType\": 4}}, \"*\")"
            ],
            "text/plain": [
              "<IPython.core.display.Javascript object>"
            ]
          },
          "metadata": {
            "tags": []
          }
        },
        {
          "output_type": "display_data",
          "data": {
            "text/markdown": "<span style=\"color:#33cc99\">Solution:</span> \n```python\n# Preprocessing of test data, fit model\npreds_test = my_pipeline.predict(X_test)\n\n```",
            "text/plain": [
              "Solution: \n",
              "```python\n",
              "# Preprocessing of test data, fit model\n",
              "preds_test = my_pipeline.predict(X_test)\n",
              "\n",
              "```"
            ]
          },
          "metadata": {
            "tags": []
          }
        }
      ]
    },
    {
      "cell_type": "markdown",
      "metadata": {
        "papermill": {
          "duration": 0.032534,
          "end_time": "2021-01-31T13:09:55.544995",
          "exception": false,
          "start_time": "2021-01-31T13:09:55.512461",
          "status": "completed"
        },
        "tags": [],
        "id": "On4vlwYdp5Iq"
      },
      "source": [
        "Run the next code cell without changes to save your results to a CSV file that can be submitted directly to the competition."
      ]
    },
    {
      "cell_type": "code",
      "metadata": {
        "execution": {
          "iopub.execute_input": "2021-01-31T13:09:55.617078Z",
          "iopub.status.busy": "2021-01-31T13:09:55.616435Z",
          "iopub.status.idle": "2021-01-31T13:09:55.627392Z",
          "shell.execute_reply": "2021-01-31T13:09:55.626555Z"
        },
        "papermill": {
          "duration": 0.049644,
          "end_time": "2021-01-31T13:09:55.627606",
          "exception": false,
          "start_time": "2021-01-31T13:09:55.577962",
          "status": "completed"
        },
        "tags": [],
        "id": "RPsdfZVHp5Iq"
      },
      "source": [
        "# Save test predictions to file\n",
        "output = pd.DataFrame({'Id': X_test.index,\n",
        "                       'SalePrice': preds_test})\n",
        "output.to_csv('submission.csv', index=False)"
      ],
      "execution_count": null,
      "outputs": []
    },
    {
      "cell_type": "markdown",
      "metadata": {
        "papermill": {
          "duration": 0.033568,
          "end_time": "2021-01-31T13:09:55.694626",
          "exception": false,
          "start_time": "2021-01-31T13:09:55.661058",
          "status": "completed"
        },
        "tags": [],
        "id": "uf3ygvQep5Ir"
      },
      "source": [
        "# Submit your results\n",
        "\n",
        "Once you have successfully completed Step 2, you're ready to submit your results to the leaderboard!  If you choose to do so, make sure that you have already joined the competition by clicking on the **Join Competition** button at [this link](https://www.kaggle.com/c/home-data-for-ml-course).  \n",
        "1. Begin by clicking on the blue **Save Version** button in the top right corner of the window.  This will generate a pop-up window.  \n",
        "2. Ensure that the **Save and Run All** option is selected, and then click on the blue **Save** button.\n",
        "3. This generates a window in the bottom left corner of the notebook.  After it has finished running, click on the number to the right of the **Save Version** button.  This pulls up a list of versions on the right of the screen.  Click on the ellipsis **(...)** to the right of the most recent version, and select **Open in Viewer**.  This brings you into view mode of the same page. You will need to scroll down to get back to these instructions.\n",
        "4. Click on the **Output** tab on the right of the screen.  Then, click on the file you would like to submit, and click on the blue **Submit** button to submit your results to the leaderboard.\n",
        "\n",
        "You have now successfully submitted to the competition!\n",
        "\n",
        "If you want to keep working to improve your performance, select the blue **Edit** button in the top right of the screen. Then you can change your code and repeat the process. There's a lot of room to improve, and you will climb up the leaderboard as you work.\n",
        "\n",
        "\n",
        "# Keep going\n",
        "\n",
        "Move on to learn about [**cross-validation**](https://www.kaggle.com/alexisbcook/cross-validation), a technique you can use to obtain more accurate estimates of model performance!"
      ]
    },
    {
      "cell_type": "markdown",
      "metadata": {
        "papermill": {
          "duration": 0.023424,
          "end_time": "2021-01-31T13:09:55.744437",
          "exception": false,
          "start_time": "2021-01-31T13:09:55.721013",
          "status": "completed"
        },
        "tags": [],
        "id": "-stnlPyIp5Is"
      },
      "source": [
        "---\n",
        "\n",
        "\n",
        "\n",
        "\n",
        "*Have questions or comments? Visit the [Learn Discussion forum](https://www.kaggle.com/learn-forum/161289) to chat with other Learners.*"
      ]
    }
  ]
}